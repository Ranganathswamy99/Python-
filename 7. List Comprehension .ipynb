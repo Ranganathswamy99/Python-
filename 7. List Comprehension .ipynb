{
 "cells": [
  {
   "cell_type": "markdown",
   "id": "956fc452-dcd4-4dd6-ace1-721167f2529d",
   "metadata": {},
   "source": [
    "# List Comprension\n",
    "List comprehension is a short and easy way to make a new list in Python.\n",
    "\n",
    "Instead of writing a long for loop, you can create a list in one line using list comprehension.\n",
    "\n",
    "          OR\n",
    "list comprehension provide a concise a way to create lists. it consists of brackets containing an expression follwed by a foe clause, then zero or more or if clauses. the expression can be anything, mening can you can put in all kinds of objects in lists "
   ]
  },
  {
   "cell_type": "markdown",
   "id": "9a691602-6ca7-48d3-9734-f1a7349521ea",
   "metadata": {},
   "source": [
    "### Without list comprehension"
   ]
  },
  {
   "cell_type": "code",
   "execution_count": 4,
   "id": "f0aaddd6-0785-433e-b5b0-7a1e2c891df5",
   "metadata": {},
   "outputs": [],
   "source": [
    "squares1 = []\n",
    "for x in range(5):\n",
    "    squares.append(x * x)"
   ]
  },
  {
   "cell_type": "markdown",
   "id": "29f666a6-35e3-4221-aec1-81767103c87d",
   "metadata": {},
   "source": [
    "#### With list comprehension"
   ]
  },
  {
   "cell_type": "code",
   "execution_count": 5,
   "id": "cf4a443f-57b2-40d4-9454-ffed3096a62a",
   "metadata": {},
   "outputs": [
    {
     "data": {
      "text/plain": [
       "[0, 1, 4, 9, 16]"
      ]
     },
     "execution_count": 5,
     "metadata": {},
     "output_type": "execute_result"
    }
   ],
   "source": [
    "squares = [x * x for x in range(5)]\n",
    "squares"
   ]
  },
  {
   "cell_type": "code",
   "execution_count": 9,
   "id": "f3aa85ec-5382-450b-ae4c-dba93e6ba5ea",
   "metadata": {},
   "outputs": [],
   "source": [
    "lst1=[]\n",
    "def lst_square(lst):\n",
    "    for i in lst:\n",
    "        lst1.append(i*i)\n",
    "    return lst1"
   ]
  },
  {
   "cell_type": "code",
   "execution_count": 11,
   "id": "859cc919-c51c-4fd4-8126-e1e727850c6e",
   "metadata": {},
   "outputs": [
    {
     "data": {
      "text/plain": [
       "[1, 4, 9, 16, 25, 36, 49]"
      ]
     },
     "execution_count": 11,
     "metadata": {},
     "output_type": "execute_result"
    }
   ],
   "source": [
    "lst_square([1,2,3,4,5,6,7])"
   ]
  },
  {
   "cell_type": "code",
   "execution_count": 14,
   "id": "4cfb8be8-ad46-4470-a207-3df4d26476d2",
   "metadata": {},
   "outputs": [],
   "source": [
    "lst=[1,2,3,4,5,6,7]"
   ]
  },
  {
   "cell_type": "code",
   "execution_count": 21,
   "id": "a095588a-9216-4833-a879-494e18b44fad",
   "metadata": {},
   "outputs": [
    {
     "data": {
      "text/plain": [
       "[1, 4, 9, 16, 25, 36, 49]"
      ]
     },
     "execution_count": 21,
     "metadata": {},
     "output_type": "execute_result"
    }
   ],
   "source": [
    "##List Comprehension\n",
    "\n",
    "[i*i for i in lst ]"
   ]
  },
  {
   "cell_type": "code",
   "execution_count": 18,
   "id": "bd915888-6f54-4ef4-a342-26070890d447",
   "metadata": {},
   "outputs": [
    {
     "data": {
      "text/plain": [
       "[4, 16, 36]"
      ]
     },
     "execution_count": 18,
     "metadata": {},
     "output_type": "execute_result"
    }
   ],
   "source": [
    "[i*i for i in lst if i%2==0]"
   ]
  },
  {
   "cell_type": "code",
   "execution_count": 20,
   "id": "a88c95ad-60a5-452d-8e25-aa12d27b247a",
   "metadata": {},
   "outputs": [
    {
     "data": {
      "text/plain": [
       "[1, 9, 25, 49]"
      ]
     },
     "execution_count": 20,
     "metadata": {},
     "output_type": "execute_result"
    }
   ],
   "source": [
    "[i*i for i in lst if i%2!=0]"
   ]
  }
 ],
 "metadata": {
  "kernelspec": {
   "display_name": "Python 3 (ipykernel)",
   "language": "python",
   "name": "python3"
  },
  "language_info": {
   "codemirror_mode": {
    "name": "ipython",
    "version": 3
   },
   "file_extension": ".py",
   "mimetype": "text/x-python",
   "name": "python",
   "nbconvert_exporter": "python",
   "pygments_lexer": "ipython3",
   "version": "3.12.7"
  }
 },
 "nbformat": 4,
 "nbformat_minor": 5
}
