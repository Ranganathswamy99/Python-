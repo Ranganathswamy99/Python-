{
 "cells": [
  {
   "cell_type": "markdown",
   "id": "1eb37d5d-2068-4212-a09a-35ff1e62b563",
   "metadata": {},
   "source": [
    "## String Formating\n",
    "\n",
    "String formatting allows you to insert variables or values into a string in a clean and readable way."
   ]
  },
  {
   "cell_type": "code",
   "execution_count": 1,
   "id": "a3009f20-9b0b-44df-81ad-c1483a54a5cf",
   "metadata": {},
   "outputs": [
    {
     "name": "stdout",
     "output_type": "stream",
     "text": [
      "Hello everyone\n"
     ]
    }
   ],
   "source": [
    "print(\"Hello everyone\")"
   ]
  },
  {
   "cell_type": "code",
   "execution_count": 2,
   "id": "65dec9de-55b7-4bbb-b48a-60a8ca73b183",
   "metadata": {},
   "outputs": [],
   "source": [
    "def greeting (name):\n",
    "    return \"Hello {}.Welcome to the community\".format(name)"
   ]
  },
  {
   "cell_type": "code",
   "execution_count": 4,
   "id": "13e8ab53-fc15-441f-bcce-8b5f02e408df",
   "metadata": {},
   "outputs": [
    {
     "data": {
      "text/plain": [
       "'Hello Ranganath.Welcome to the community'"
      ]
     },
     "execution_count": 4,
     "metadata": {},
     "output_type": "execute_result"
    }
   ],
   "source": [
    "greeting('Ranganath')"
   ]
  },
  {
   "cell_type": "code",
   "execution_count": 8,
   "id": "1af99e38-6b00-4a17-853f-e87c826eea91",
   "metadata": {},
   "outputs": [],
   "source": [
    "def Welcome_email(name, age):\n",
    "    return \"welcome {}. you age is {}\".format(name,age)"
   ]
  },
  {
   "cell_type": "code",
   "execution_count": 11,
   "id": "4b9c9730-6dfa-49c1-9f94-2d675eac5bd4",
   "metadata": {},
   "outputs": [
    {
     "data": {
      "text/plain": [
       "'welcome Ranganath. you age 25'"
      ]
     },
     "execution_count": 11,
     "metadata": {},
     "output_type": "execute_result"
    }
   ],
   "source": [
    "Welcome_email(\"Ranganath\",25)"
   ]
  },
  {
   "cell_type": "code",
   "execution_count": 15,
   "id": "b18c256e-b22e-4922-bc95-78763574001e",
   "metadata": {},
   "outputs": [
    {
     "name": "stdout",
     "output_type": "stream",
     "text": [
      "My name is Ranganath and I am 25 years old.\n"
     ]
    }
   ],
   "source": [
    "name = \"Ranganath\"\n",
    "age = 25\n",
    "print(f\"My name is {name} and I am {age} years old.\")"
   ]
  },
  {
   "cell_type": "code",
   "execution_count": 16,
   "id": "13358a09-b6e5-4d53-b9b2-d5daf71313cb",
   "metadata": {},
   "outputs": [
    {
     "name": "stdout",
     "output_type": "stream",
     "text": [
      "My name is Ranganath and I am 25 years old.\n"
     ]
    }
   ],
   "source": [
    "name = \"Ranganath\"\n",
    "age = 25\n",
    "print(\"My name is {} and I am {} years old.\".format(name, age))"
   ]
  },
  {
   "cell_type": "markdown",
   "id": "6eeb1d3f-fc40-410c-9ad6-51e79c7c1dfe",
   "metadata": {},
   "source": [
    "### List iterables vs iterators\n",
    "\n",
    "An iterable is any Python object that can return its members one at a time, allowing it to be looped over (like in a for loop).\n",
    "\n",
    "    vs\n",
    "An iterator is an object that remembers where it is during iteration and produces the next value when you call next() on it."
   ]
  },
  {
   "cell_type": "code",
   "execution_count": 18,
   "id": "6f902ddc-37ed-4996-b2eb-d553355b9bcc",
   "metadata": {},
   "outputs": [
    {
     "name": "stdout",
     "output_type": "stream",
     "text": [
      "1\n",
      "2\n",
      "3\n",
      "4\n",
      "5\n"
     ]
    }
   ],
   "source": [
    "## List is Iterable\n",
    "lst =[1,2,3,4,5]\n",
    "for i in lst:\n",
    "    print(i)"
   ]
  },
  {
   "cell_type": "code",
   "execution_count": 20,
   "id": "84a467e4-7b6e-4b19-a406-fde6bcf9ee12",
   "metadata": {},
   "outputs": [
    {
     "data": {
      "text/plain": [
       "<list_iterator at 0x234cc2dcd60>"
      ]
     },
     "execution_count": 20,
     "metadata": {},
     "output_type": "execute_result"
    }
   ],
   "source": [
    "lst1=iter(lst)\n",
    "lst1\n",
    "         "
   ]
  },
  {
   "cell_type": "code",
   "execution_count": 21,
   "id": "34d89ff4-508b-4b9a-b673-7ee3b473c775",
   "metadata": {},
   "outputs": [
    {
     "data": {
      "text/plain": [
       "1"
      ]
     },
     "execution_count": 21,
     "metadata": {},
     "output_type": "execute_result"
    }
   ],
   "source": [
    "next(lst1)"
   ]
  },
  {
   "cell_type": "code",
   "execution_count": 22,
   "id": "e78a018f-1978-4028-a35c-fc90859bb6e8",
   "metadata": {},
   "outputs": [
    {
     "data": {
      "text/plain": [
       "2"
      ]
     },
     "execution_count": 22,
     "metadata": {},
     "output_type": "execute_result"
    }
   ],
   "source": [
    "next(lst1)"
   ]
  },
  {
   "cell_type": "code",
   "execution_count": 23,
   "id": "4c473e30-c4e3-4fd3-93b2-623edaea3bde",
   "metadata": {},
   "outputs": [
    {
     "data": {
      "text/plain": [
       "3"
      ]
     },
     "execution_count": 23,
     "metadata": {},
     "output_type": "execute_result"
    }
   ],
   "source": [
    "next(lst1)"
   ]
  },
  {
   "cell_type": "code",
   "execution_count": 27,
   "id": "f2de4781-0f79-470f-9937-53d2d357d0b4",
   "metadata": {},
   "outputs": [
    {
     "name": "stdout",
     "output_type": "stream",
     "text": [
      "4\n",
      "5\n"
     ]
    }
   ],
   "source": [
    "for i in (lst1):\n",
    "    print(i)"
   ]
  },
  {
   "cell_type": "code",
   "execution_count": null,
   "id": "e658a0ac-eb2b-4c67-afbb-26faef12cb12",
   "metadata": {},
   "outputs": [],
   "source": []
  },
  {
   "cell_type": "code",
   "execution_count": null,
   "id": "8997cd7c-4482-43e5-b753-06e9726f33d9",
   "metadata": {},
   "outputs": [],
   "source": []
  }
 ],
 "metadata": {
  "kernelspec": {
   "display_name": "Python 3 (ipykernel)",
   "language": "python",
   "name": "python3"
  },
  "language_info": {
   "codemirror_mode": {
    "name": "ipython",
    "version": 3
   },
   "file_extension": ".py",
   "mimetype": "text/x-python",
   "name": "python",
   "nbconvert_exporter": "python",
   "pygments_lexer": "ipython3",
   "version": "3.12.7"
  }
 },
 "nbformat": 4,
 "nbformat_minor": 5
}
