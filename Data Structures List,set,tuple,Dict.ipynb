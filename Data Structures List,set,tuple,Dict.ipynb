{
 "cells": [
  {
   "cell_type": "markdown",
   "id": "0b9cf4b1-bc85-4a80-9330-a5d6804286e3",
   "metadata": {},
   "source": [
    "# Basic of Python\n"
   ]
  },
  {
   "cell_type": "markdown",
   "id": "05d85b99-2a92-4efc-89ed-a432fadc376e",
   "metadata": {},
   "source": [
    "### Various Data Types\n"
   ]
  },
  {
   "cell_type": "code",
   "execution_count": 1,
   "id": "61cb9f20-26b7-4f36-a5f2-523478151d43",
   "metadata": {},
   "outputs": [
    {
     "data": {
      "text/plain": [
       "2"
      ]
     },
     "execution_count": 1,
     "metadata": {},
     "output_type": "execute_result"
    }
   ],
   "source": [
    "1+1"
   ]
  },
  {
   "cell_type": "code",
   "execution_count": 2,
   "id": "df451639-8ed2-4b53-9996-c534efa03ea8",
   "metadata": {},
   "outputs": [
    {
     "data": {
      "text/plain": [
       "20"
      ]
     },
     "execution_count": 2,
     "metadata": {},
     "output_type": "execute_result"
    }
   ],
   "source": [
    "4*5"
   ]
  },
  {
   "cell_type": "code",
   "execution_count": 3,
   "id": "06b69b13-cca4-49f5-81c3-8b8b162ff459",
   "metadata": {},
   "outputs": [
    {
     "data": {
      "text/plain": [
       "2.5"
      ]
     },
     "execution_count": 3,
     "metadata": {},
     "output_type": "execute_result"
    }
   ],
   "source": [
    "5/2"
   ]
  },
  {
   "cell_type": "code",
   "execution_count": 4,
   "id": "fa26a260-2548-4d72-9dec-3a96b74f0401",
   "metadata": {},
   "outputs": [
    {
     "data": {
      "text/plain": [
       "0"
      ]
     },
     "execution_count": 4,
     "metadata": {},
     "output_type": "execute_result"
    }
   ],
   "source": [
    "10%2"
   ]
  },
  {
   "cell_type": "code",
   "execution_count": 6,
   "id": "e70c7310-ee97-4da9-b1e1-e637b4b4da10",
   "metadata": {},
   "outputs": [
    {
     "data": {
      "text/plain": [
       "100"
      ]
     },
     "execution_count": 6,
     "metadata": {},
     "output_type": "execute_result"
    }
   ],
   "source": [
    "10**2"
   ]
  },
  {
   "cell_type": "code",
   "execution_count": 7,
   "id": "c7241eae-f5f9-44fe-8a69-0aec94f4b0c5",
   "metadata": {},
   "outputs": [
    {
     "data": {
      "text/plain": [
       "int"
      ]
     },
     "execution_count": 7,
     "metadata": {},
     "output_type": "execute_result"
    }
   ],
   "source": [
    "type(1)"
   ]
  },
  {
   "cell_type": "code",
   "execution_count": 9,
   "id": "d9a2f502-43c6-4e86-b17c-b4b47ccc688f",
   "metadata": {},
   "outputs": [
    {
     "data": {
      "text/plain": [
       "float"
      ]
     },
     "execution_count": 9,
     "metadata": {},
     "output_type": "execute_result"
    }
   ],
   "source": [
    "type(10.0)"
   ]
  },
  {
   "cell_type": "code",
   "execution_count": 11,
   "id": "baeefb02-33a1-4e95-a397-f3447079758c",
   "metadata": {},
   "outputs": [
    {
     "data": {
      "text/plain": [
       "bool"
      ]
     },
     "execution_count": 11,
     "metadata": {},
     "output_type": "execute_result"
    }
   ],
   "source": [
    "type(True)"
   ]
  },
  {
   "cell_type": "markdown",
   "id": "f4ae8d9a-8ee6-4795-8cd9-9668a47ff7e2",
   "metadata": {},
   "source": [
    "## Strings"
   ]
  },
  {
   "cell_type": "code",
   "execution_count": 12,
   "id": "dd09272e-5571-4c8d-a579-c72e638cbc86",
   "metadata": {},
   "outputs": [
    {
     "data": {
      "text/plain": [
       "'Hello'"
      ]
     },
     "execution_count": 12,
     "metadata": {},
     "output_type": "execute_result"
    }
   ],
   "source": [
    "\"Hello\""
   ]
  },
  {
   "cell_type": "code",
   "execution_count": 13,
   "id": "b959f17a-9617-416b-8da4-c2997e3b18cd",
   "metadata": {},
   "outputs": [
    {
     "data": {
      "text/plain": [
       "'Hello'"
      ]
     },
     "execution_count": 13,
     "metadata": {},
     "output_type": "execute_result"
    }
   ],
   "source": [
    "'Hello'"
   ]
  },
  {
   "cell_type": "code",
   "execution_count": 14,
   "id": "41e1b090-3694-4965-90c7-bec4c28448d6",
   "metadata": {},
   "outputs": [
    {
     "data": {
      "text/plain": [
       "str"
      ]
     },
     "execution_count": 14,
     "metadata": {},
     "output_type": "execute_result"
    }
   ],
   "source": [
    "type(\"Hello\")"
   ]
  },
  {
   "cell_type": "markdown",
   "id": "70567213-5fa3-4941-8146-6bccb8791190",
   "metadata": {},
   "source": [
    "## Variable Assignment"
   ]
  },
  {
   "cell_type": "code",
   "execution_count": 15,
   "id": "06e9a022-52d6-4817-b6c1-7a208aaed722",
   "metadata": {},
   "outputs": [],
   "source": [
    "#syntax\n",
    "#var_name = values\n",
    "\n",
    "a= 10"
   ]
  },
  {
   "cell_type": "code",
   "execution_count": 17,
   "id": "18b516fa-96de-4101-a7bc-750ca34f5c2d",
   "metadata": {},
   "outputs": [],
   "source": [
    "a='Ranganth'"
   ]
  },
  {
   "cell_type": "code",
   "execution_count": 18,
   "id": "a443c927-c307-4c8d-880e-fe092a287552",
   "metadata": {},
   "outputs": [
    {
     "data": {
      "text/plain": [
       "str"
      ]
     },
     "execution_count": 18,
     "metadata": {},
     "output_type": "execute_result"
    }
   ],
   "source": [
    "type(a)"
   ]
  },
  {
   "cell_type": "code",
   "execution_count": 30,
   "id": "06d17c98-fbba-4511-b049-1324724d3e2b",
   "metadata": {},
   "outputs": [
    {
     "data": {
      "text/plain": [
       "list"
      ]
     },
     "execution_count": 30,
     "metadata": {},
     "output_type": "execute_result"
    }
   ],
   "source": [
    "type([1,2,3,4])"
   ]
  },
  {
   "cell_type": "code",
   "execution_count": 19,
   "id": "d268377c-2acd-48d5-9546-f3c485e5cf51",
   "metadata": {},
   "outputs": [],
   "source": [
    "## Mathematical opration with variables assignment\n",
    "\n",
    "a=10\n",
    "b=20"
   ]
  },
  {
   "cell_type": "code",
   "execution_count": 20,
   "id": "c50fa219-6a29-4c3c-9f3e-25c48ddd15a4",
   "metadata": {},
   "outputs": [
    {
     "name": "stdout",
     "output_type": "stream",
     "text": [
      "200\n",
      "0.5\n",
      "10\n",
      "200.5\n"
     ]
    }
   ],
   "source": [
    "print(a*b)\n",
    "print(a/b)\n",
    "print(a%b)\n",
    "print((a*b) + (a/b)) ##BODMAS"
   ]
  },
  {
   "cell_type": "code",
   "execution_count": 21,
   "id": "e3cfa1d1-ba46-43ea-b1c6-568a176bfd3e",
   "metadata": {},
   "outputs": [
    {
     "name": "stdout",
     "output_type": "stream",
     "text": [
      "Hello\n"
     ]
    }
   ],
   "source": [
    "## various ways of printing\n",
    "\n",
    "print(\"Hello\")"
   ]
  },
  {
   "cell_type": "code",
   "execution_count": 22,
   "id": "35521e25-fe23-4664-bfe1-3eb30f1aeb50",
   "metadata": {},
   "outputs": [],
   "source": [
    "first_name = 'ranganth'\n",
    "last_name= 'swamy'"
   ]
  },
  {
   "cell_type": "code",
   "execution_count": 24,
   "id": "796eaa28-897b-419a-a692-0b930583cd0e",
   "metadata": {},
   "outputs": [
    {
     "name": "stdout",
     "output_type": "stream",
     "text": [
      "my first name is ranganth and my last name swamy\n"
     ]
    }
   ],
   "source": [
    "print(\"my first name is {} and my last name {}\".format(first_name,last_name))"
   ]
  },
  {
   "cell_type": "code",
   "execution_count": 28,
   "id": "dd09ed56-5e77-41f1-a120-1b03d5636900",
   "metadata": {},
   "outputs": [
    {
     "name": "stdout",
     "output_type": "stream",
     "text": [
      "my first name is swamy and my last name ranganth\n"
     ]
    }
   ],
   "source": [
    "print(\"my first name is {last} and my last name {first}\".format(first=first_name,last=last_name))"
   ]
  },
  {
   "cell_type": "code",
   "execution_count": 29,
   "id": "f05429ef-90a7-4fc0-b546-b850f0e274e1",
   "metadata": {},
   "outputs": [
    {
     "data": {
      "text/plain": [
       "3"
      ]
     },
     "execution_count": 29,
     "metadata": {},
     "output_type": "execute_result"
    }
   ],
   "source": [
    "len('Ram')"
   ]
  },
  {
   "cell_type": "markdown",
   "id": "dd3b3303-cc04-4d67-88bf-e631bb91a015",
   "metadata": {},
   "source": [
    "## Python Data Structures and Boolean"
   ]
  },
  {
   "cell_type": "code",
   "execution_count": 31,
   "id": "bca27ce0-1e0d-4439-a4c8-5b4429a7e976",
   "metadata": {},
   "outputs": [
    {
     "data": {
      "text/plain": [
       "bool"
      ]
     },
     "execution_count": 31,
     "metadata": {},
     "output_type": "execute_result"
    }
   ],
   "source": [
    "type(True)"
   ]
  },
  {
   "cell_type": "code",
   "execution_count": 32,
   "id": "157abfc0-84b8-46bf-aabe-52ca2b3d70bc",
   "metadata": {},
   "outputs": [],
   "source": [
    "my_str = \"Ranganth\" "
   ]
  },
  {
   "cell_type": "code",
   "execution_count": null,
   "id": "0af3b569-8923-46e0-8d03-513bb681d145",
   "metadata": {},
   "outputs": [],
   "source": [
    "my_str.isalnum"
   ]
  },
  {
   "cell_type": "code",
   "execution_count": 34,
   "id": "5af5240b-6c2a-4dfe-bc0d-7f026665a85d",
   "metadata": {},
   "outputs": [
    {
     "name": "stdout",
     "output_type": "stream",
     "text": [
      "True\n",
      "True\n",
      "False\n",
      "True\n",
      "False\n",
      "False\n",
      "False\n",
      "True\n",
      "True\n"
     ]
    }
   ],
   "source": [
    "print(my_str.isalnum()) #check if all char are numbers\n",
    "print(my_str.isalpha()) #check if all char in the string are alphabetic\n",
    "print(my_str.isdigit()) #test if string contains digits\n",
    "print(my_str.istitle()) #test if string contains title words\n",
    "print(my_str.isupper()) #test if string contains upper case\n",
    "print(my_str.islower()) #test if string contains lower case\n",
    "print(my_str.isspace()) #test if string contains spaces\n",
    "print(my_str.endswith('h')) #test if string endswith a d\n",
    "print(my_str.startswith('R')) #test if string startswith R"
   ]
  },
  {
   "cell_type": "markdown",
   "id": "84d97806-e5c6-4c12-98df-f7c89ab7b44a",
   "metadata": {},
   "source": [
    "## Boolean and Logical Operators"
   ]
  },
  {
   "cell_type": "code",
   "execution_count": 35,
   "id": "2075093f-b5c4-416a-9e82-2a9cb8c4940b",
   "metadata": {},
   "outputs": [
    {
     "data": {
      "text/plain": [
       "True"
      ]
     },
     "execution_count": 35,
     "metadata": {},
     "output_type": "execute_result"
    }
   ],
   "source": [
    "True and True"
   ]
  },
  {
   "cell_type": "code",
   "execution_count": 36,
   "id": "1a83cb38-3b7d-4238-b261-4ddc27ae398f",
   "metadata": {},
   "outputs": [
    {
     "data": {
      "text/plain": [
       "False"
      ]
     },
     "execution_count": 36,
     "metadata": {},
     "output_type": "execute_result"
    }
   ],
   "source": [
    "True and False"
   ]
  },
  {
   "cell_type": "code",
   "execution_count": 37,
   "id": "019c1326-1aa2-424a-888c-35f2df745513",
   "metadata": {},
   "outputs": [
    {
     "data": {
      "text/plain": [
       "True"
      ]
     },
     "execution_count": 37,
     "metadata": {},
     "output_type": "execute_result"
    }
   ],
   "source": [
    "True or False"
   ]
  },
  {
   "cell_type": "code",
   "execution_count": 38,
   "id": "547715d4-5c9e-4ffd-97a3-b32ca44fa2ec",
   "metadata": {},
   "outputs": [
    {
     "data": {
      "text/plain": [
       "True"
      ]
     },
     "execution_count": 38,
     "metadata": {},
     "output_type": "execute_result"
    }
   ],
   "source": [
    "True or True"
   ]
  },
  {
   "cell_type": "code",
   "execution_count": 39,
   "id": "35eea53d-7fc3-4baa-b5c5-9238a8ee06bb",
   "metadata": {},
   "outputs": [],
   "source": [
    "str_example = ' Ranganath swamy'\n",
    "my_str = 'Ram'"
   ]
  },
  {
   "cell_type": "code",
   "execution_count": 40,
   "id": "9da22a30-1d62-4e3a-9be7-ed8f0165ade2",
   "metadata": {},
   "outputs": [
    {
     "data": {
      "text/plain": [
       "True"
      ]
     },
     "execution_count": 40,
     "metadata": {},
     "output_type": "execute_result"
    }
   ],
   "source": [
    "my_str.isalpha() or str_example.isnum()"
   ]
  },
  {
   "cell_type": "markdown",
   "id": "1654352d-37a9-4bb2-adc0-dd1cc5ce54fa",
   "metadata": {},
   "source": [
    "## List\n",
    "\n",
    "A list is a data structure in Python that is a mutable, or changeable, ordered sequence of elements. Each element or value that is inside of a list is called an item. Just as strings are defined as characters between quotes, lists are defined by having values between square brackets [ ]"
   ]
  },
  {
   "cell_type": "code",
   "execution_count": 41,
   "id": "f623a503-c175-4263-bfe6-8bb4045ae51c",
   "metadata": {},
   "outputs": [
    {
     "data": {
      "text/plain": [
       "list"
      ]
     },
     "execution_count": 41,
     "metadata": {},
     "output_type": "execute_result"
    }
   ],
   "source": [
    "type([])"
   ]
  },
  {
   "cell_type": "code",
   "execution_count": 44,
   "id": "c8169c46-f31e-45b9-b495-ee924616bc23",
   "metadata": {},
   "outputs": [],
   "source": [
    "list_example=[]"
   ]
  },
  {
   "cell_type": "code",
   "execution_count": 45,
   "id": "00c2e220-3296-4b52-9eba-908d00a80711",
   "metadata": {},
   "outputs": [
    {
     "data": {
      "text/plain": [
       "list"
      ]
     },
     "execution_count": 45,
     "metadata": {},
     "output_type": "execute_result"
    }
   ],
   "source": [
    "type(list_example)"
   ]
  },
  {
   "cell_type": "code",
   "execution_count": 47,
   "id": "299777be-6287-49c9-b363-dd573c4b2f3a",
   "metadata": {},
   "outputs": [],
   "source": [
    "lst=[ 'apple', 1,2,3, 2.0, -1, True]"
   ]
  },
  {
   "cell_type": "code",
   "execution_count": 48,
   "id": "889c94ed-0673-47ff-95e3-abf03a92e41c",
   "metadata": {},
   "outputs": [
    {
     "data": {
      "text/plain": [
       "list"
      ]
     },
     "execution_count": 48,
     "metadata": {},
     "output_type": "execute_result"
    }
   ],
   "source": [
    "type(lst)"
   ]
  },
  {
   "cell_type": "markdown",
   "id": "992a06db-fc77-4ecd-b7de-df28c4c0b7a9",
   "metadata": {},
   "source": [
    "## Append"
   ]
  },
  {
   "cell_type": "code",
   "execution_count": 49,
   "id": "09eebaf2-e18b-4090-a733-f260e36b8b6d",
   "metadata": {},
   "outputs": [],
   "source": [
    "#aapend is used to add elements in the list\n",
    "lst.append('Ram')"
   ]
  },
  {
   "cell_type": "code",
   "execution_count": 50,
   "id": "9a1c33e1-e918-483d-a893-0103b2b3fa50",
   "metadata": {},
   "outputs": [
    {
     "data": {
      "text/plain": [
       "['apple', 1, 2, 3, 2.0, -1, True, 'Ram']"
      ]
     },
     "execution_count": 50,
     "metadata": {},
     "output_type": "execute_result"
    }
   ],
   "source": [
    "lst"
   ]
  },
  {
   "cell_type": "code",
   "execution_count": 51,
   "id": "79942c6b-1b91-48fc-8c53-531ea456fd31",
   "metadata": {},
   "outputs": [
    {
     "data": {
      "text/plain": [
       "2"
      ]
     },
     "execution_count": 51,
     "metadata": {},
     "output_type": "execute_result"
    }
   ],
   "source": [
    "## Indexing in list \n",
    "## Index Technic is used to retrive the values\n",
    "lst[2]"
   ]
  },
  {
   "cell_type": "code",
   "execution_count": 54,
   "id": "c1ea3ffd-e574-45c9-8cfc-1da114b44a46",
   "metadata": {},
   "outputs": [
    {
     "data": {
      "text/plain": [
       "['apple', 1, 2, 3, 2.0, -1, True, 'Ram']"
      ]
     },
     "execution_count": 54,
     "metadata": {},
     "output_type": "execute_result"
    }
   ],
   "source": [
    "lst[:]"
   ]
  },
  {
   "cell_type": "code",
   "execution_count": 55,
   "id": "4ee0ac16-6bd7-47db-96f4-212931425606",
   "metadata": {},
   "outputs": [
    {
     "data": {
      "text/plain": [
       "[1, 2, 3, 2.0, -1, True, 'Ram']"
      ]
     },
     "execution_count": 55,
     "metadata": {},
     "output_type": "execute_result"
    }
   ],
   "source": [
    "lst[1:]"
   ]
  },
  {
   "cell_type": "code",
   "execution_count": 57,
   "id": "f7996228-1930-45ea-a334-88d691e3c745",
   "metadata": {},
   "outputs": [
    {
     "data": {
      "text/plain": [
       "[1, 2, 3, 2.0]"
      ]
     },
     "execution_count": 57,
     "metadata": {},
     "output_type": "execute_result"
    }
   ],
   "source": [
    "lst[1:5]"
   ]
  },
  {
   "cell_type": "code",
   "execution_count": 58,
   "id": "41c611e1-8a0f-449c-baba-b29c46727db9",
   "metadata": {},
   "outputs": [],
   "source": [
    "## Nested list\n",
    "lst.append(['Ranganath', 'Prabha'])"
   ]
  },
  {
   "cell_type": "code",
   "execution_count": 59,
   "id": "a6a10352-b770-48a9-8553-279f767e7fef",
   "metadata": {},
   "outputs": [
    {
     "data": {
      "text/plain": [
       "['apple', 1, 2, 3, 2.0, -1, True, 'Ram', ['Ranganath', 'Prabha']]"
      ]
     },
     "execution_count": 59,
     "metadata": {},
     "output_type": "execute_result"
    }
   ],
   "source": [
    "lst"
   ]
  },
  {
   "cell_type": "markdown",
   "id": "4274be8b-4b29-4382-bdb9-190464e870af",
   "metadata": {},
   "source": [
    "## Insert "
   ]
  },
  {
   "cell_type": "code",
   "execution_count": 60,
   "id": "faf444c7-bf6b-465f-b264-e6d0b4de73f0",
   "metadata": {},
   "outputs": [],
   "source": [
    "lst.insert(2,'Ram')"
   ]
  },
  {
   "cell_type": "code",
   "execution_count": 61,
   "id": "c35d37c5-4704-46a5-b786-cad9a0168c86",
   "metadata": {},
   "outputs": [
    {
     "data": {
      "text/plain": [
       "['apple', 1, 'Ram', 2, 3, 2.0, -1, True, 'Ram', ['Ranganath', 'Prabha']]"
      ]
     },
     "execution_count": 61,
     "metadata": {},
     "output_type": "execute_result"
    }
   ],
   "source": [
    "lst"
   ]
  },
  {
   "cell_type": "markdown",
   "id": "3b8136d1-29ec-41f3-b49a-4c7f4ef44211",
   "metadata": {},
   "source": [
    "## Extend Method"
   ]
  },
  {
   "cell_type": "code",
   "execution_count": 62,
   "id": "fdc89ce9-dab7-41d4-aaa2-62aedebdcabd",
   "metadata": {},
   "outputs": [],
   "source": [
    "lst1 = [1,2,3,4,5,6]"
   ]
  },
  {
   "cell_type": "code",
   "execution_count": 65,
   "id": "6ac74ec7-6777-4941-91c2-c9565489fe52",
   "metadata": {},
   "outputs": [],
   "source": [
    "lst1.extend([9,9])"
   ]
  },
  {
   "cell_type": "code",
   "execution_count": 66,
   "id": "9c357ed6-3556-4aaa-aadb-31ddae79d2a1",
   "metadata": {},
   "outputs": [
    {
     "data": {
      "text/plain": [
       "[1, 2, 3, 4, 5, 6, 9, 9]"
      ]
     },
     "execution_count": 66,
     "metadata": {},
     "output_type": "execute_result"
    }
   ],
   "source": [
    "lst1"
   ]
  },
  {
   "cell_type": "markdown",
   "id": "5fbe3f0b-7c2f-4687-b9f4-3f1c3d68a772",
   "metadata": {},
   "source": [
    "## Various Operations tha we can perform in list"
   ]
  },
  {
   "cell_type": "code",
   "execution_count": 73,
   "id": "f84b99c5-efef-4db7-9f1c-139522b5e03c",
   "metadata": {},
   "outputs": [],
   "source": [
    "lst2 = [1,2,3,4,5,6]"
   ]
  },
  {
   "cell_type": "code",
   "execution_count": 74,
   "id": "8db4e7f2-29c7-404e-afa4-0001bdd0258f",
   "metadata": {},
   "outputs": [
    {
     "data": {
      "text/plain": [
       "21"
      ]
     },
     "execution_count": 74,
     "metadata": {},
     "output_type": "execute_result"
    }
   ],
   "source": [
    "sum(lst2)"
   ]
  },
  {
   "cell_type": "code",
   "execution_count": 75,
   "id": "7ff18c07-4f15-4e1b-8f40-e914fca52760",
   "metadata": {},
   "outputs": [
    {
     "data": {
      "text/plain": [
       "6"
      ]
     },
     "execution_count": 75,
     "metadata": {},
     "output_type": "execute_result"
    }
   ],
   "source": [
    "lst2.pop()  ## if we not given the value it will pic the last value"
   ]
  },
  {
   "cell_type": "code",
   "execution_count": 76,
   "id": "71feb91a-49f8-4bcf-a872-8cbe02e51fb2",
   "metadata": {},
   "outputs": [
    {
     "data": {
      "text/plain": [
       "1"
      ]
     },
     "execution_count": 76,
     "metadata": {},
     "output_type": "execute_result"
    }
   ],
   "source": [
    "lst2.pop(0)"
   ]
  },
  {
   "cell_type": "code",
   "execution_count": 78,
   "id": "f5f5a6eb-11e6-4e16-bddd-b7cf4d3e6e62",
   "metadata": {},
   "outputs": [
    {
     "data": {
      "text/plain": [
       "[2, 3, 4, 5]"
      ]
     },
     "execution_count": 78,
     "metadata": {},
     "output_type": "execute_result"
    }
   ],
   "source": [
    "lst2"
   ]
  },
  {
   "cell_type": "markdown",
   "id": "2829f524-017e-47f4-a372-ee05facae316",
   "metadata": {},
   "source": [
    "## Count(): Calculates total Occurance of given element of list "
   ]
  },
  {
   "cell_type": "code",
   "execution_count": 85,
   "id": "9b2df71d-f2d2-4450-b653-c0be66d6a5bc",
   "metadata": {},
   "outputs": [
    {
     "data": {
      "text/plain": [
       "3"
      ]
     },
     "execution_count": 85,
     "metadata": {},
     "output_type": "execute_result"
    }
   ],
   "source": [
    "lst3 = [1,1,1,2,3,4,5,6]\n",
    "lst3.count(1)"
   ]
  },
  {
   "cell_type": "code",
   "execution_count": 86,
   "id": "66f3a317-7087-4d41-9940-80cbfd9c24f7",
   "metadata": {},
   "outputs": [
    {
     "data": {
      "text/plain": [
       "8"
      ]
     },
     "execution_count": 86,
     "metadata": {},
     "output_type": "execute_result"
    }
   ],
   "source": [
    "len(lst3) #counts the list"
   ]
  },
  {
   "cell_type": "code",
   "execution_count": 88,
   "id": "98462d88-a662-4e09-a30c-1b59148e5ec1",
   "metadata": {},
   "outputs": [
    {
     "data": {
      "text/plain": [
       "0"
      ]
     },
     "execution_count": 88,
     "metadata": {},
     "output_type": "execute_result"
    }
   ],
   "source": [
    "# index(): Returns the index of first occurrence. Start and End index are not necessary parameters\n",
    "\n",
    "lst3.index(1) "
   ]
  },
  {
   "cell_type": "code",
   "execution_count": 89,
   "id": "f8fa93b3-2fe5-4429-86de-a3e080e8dbea",
   "metadata": {},
   "outputs": [
    {
     "data": {
      "text/plain": [
       "4"
      ]
     },
     "execution_count": 89,
     "metadata": {},
     "output_type": "execute_result"
    }
   ],
   "source": [
    "lst3.index(3)"
   ]
  },
  {
   "cell_type": "code",
   "execution_count": 93,
   "id": "54a7f3cb-708b-4de2-8cf0-28db36c052b4",
   "metadata": {},
   "outputs": [
    {
     "data": {
      "text/plain": [
       "6"
      ]
     },
     "execution_count": 93,
     "metadata": {},
     "output_type": "execute_result"
    }
   ],
   "source": [
    "## min and max\n",
    "min(lst3)\n",
    "max(lst3)"
   ]
  },
  {
   "cell_type": "markdown",
   "id": "6dd6aa80-f1a2-4df1-8156-84399e8da48b",
   "metadata": {},
   "source": [
    "## Stes\n",
    "\n",
    "A Set is an unordered collection data type that is iterable, mutable, and has no duplicate elements. Python's set class represents the mathematical notion of a set.This is based on a data structure known as a hash table"
   ]
  },
  {
   "cell_type": "code",
   "execution_count": 95,
   "id": "f54a4a6b-b6cd-440a-85f2-aa5d29306634",
   "metadata": {},
   "outputs": [
    {
     "name": "stdout",
     "output_type": "stream",
     "text": [
      "set()\n",
      "<class 'set'>\n"
     ]
    }
   ],
   "source": [
    "##Defining an empty set\n",
    "\n",
    "set_var = set()\n",
    "print(set_var)\n",
    "print(type(set_var))"
   ]
  },
  {
   "cell_type": "code",
   "execution_count": 96,
   "id": "b9af698b-5f20-450e-add1-35150691fe90",
   "metadata": {},
   "outputs": [],
   "source": [
    "set_var = {1,2,3,4,4,5}"
   ]
  },
  {
   "cell_type": "code",
   "execution_count": 97,
   "id": "92dde7ca-b92e-42ba-95c3-6d7516ddcb84",
   "metadata": {},
   "outputs": [
    {
     "data": {
      "text/plain": [
       "{1, 2, 3, 4, 5}"
      ]
     },
     "execution_count": 97,
     "metadata": {},
     "output_type": "execute_result"
    }
   ],
   "source": [
    "set_var ## it removed the Dublicate values"
   ]
  },
  {
   "cell_type": "code",
   "execution_count": 98,
   "id": "5ff8b7d0-c8f3-464a-963e-487c54d75507",
   "metadata": {},
   "outputs": [
    {
     "name": "stdout",
     "output_type": "stream",
     "text": [
      "{'sita', ' Ram'}\n"
     ]
    },
    {
     "data": {
      "text/plain": [
       "set"
      ]
     },
     "execution_count": 98,
     "metadata": {},
     "output_type": "execute_result"
    }
   ],
   "source": [
    "set_var = { \" Ram\" , \"sita\" }\n",
    "print(set_var)\n",
    "type(set_var)"
   ]
  },
  {
   "cell_type": "code",
   "execution_count": 100,
   "id": "690d40f6-3714-4094-accb-306e00748a6f",
   "metadata": {},
   "outputs": [],
   "source": [
    "set_var.add('raj')"
   ]
  },
  {
   "cell_type": "code",
   "execution_count": 101,
   "id": "21a8991e-7c48-4687-a0b5-5d37e7c47f32",
   "metadata": {},
   "outputs": [
    {
     "name": "stdout",
     "output_type": "stream",
     "text": [
      "{'raj', 'sita', ' Ram'}\n"
     ]
    }
   ],
   "source": [
    "print(set_var)"
   ]
  },
  {
   "cell_type": "code",
   "execution_count": 102,
   "id": "818e2b76-6fab-49c1-ac0d-fcb3634c8acf",
   "metadata": {},
   "outputs": [],
   "source": [
    "set1 = { 'Raj','Ram','Rahul'}\n",
    "set2 = { 'Raj','Ram','Rahul', 'Prashanth'} "
   ]
  },
  {
   "cell_type": "code",
   "execution_count": 103,
   "id": "c3bb8311-e81d-467d-8d57-66ef44fe3b6a",
   "metadata": {},
   "outputs": [
    {
     "data": {
      "text/plain": [
       "{'Prashanth'}"
      ]
     },
     "execution_count": 103,
     "metadata": {},
     "output_type": "execute_result"
    }
   ],
   "source": [
    "##Diffrence\n",
    "set2.difference(set1)"
   ]
  },
  {
   "cell_type": "code",
   "execution_count": 105,
   "id": "d9710ed7-5d71-4b38-8411-137021e0fae6",
   "metadata": {},
   "outputs": [
    {
     "data": {
      "text/plain": [
       "{'Rahul', 'Raj', 'Ram'}"
      ]
     },
     "execution_count": 105,
     "metadata": {},
     "output_type": "execute_result"
    }
   ],
   "source": [
    "set2.intersection_update(set1)\n",
    "set2"
   ]
  },
  {
   "cell_type": "markdown",
   "id": "4320830d-4613-4096-b75b-e08939666aab",
   "metadata": {},
   "source": [
    "## Dictonary\n",
    "A dictionary in Python is a built-in data structure that allows you to store data in key-value pairs."
   ]
  },
  {
   "cell_type": "code",
   "execution_count": 112,
   "id": "b18907d7-2440-4d64-a200-caac57552c75",
   "metadata": {},
   "outputs": [],
   "source": [
    "my_dict = {\n",
    "    \"name\": \"Ram\",\n",
    "    \"age\": 25,\n",
    "    \"city\": \"Bangalore\"\n",
    "}"
   ]
  },
  {
   "cell_type": "code",
   "execution_count": 113,
   "id": "36748bab-1a3a-4e6b-bd65-0ed7cc62c720",
   "metadata": {},
   "outputs": [
    {
     "data": {
      "text/plain": [
       "dict"
      ]
     },
     "execution_count": 113,
     "metadata": {},
     "output_type": "execute_result"
    }
   ],
   "source": [
    "type(my_dict)"
   ]
  },
  {
   "cell_type": "code",
   "execution_count": 114,
   "id": "eb341d3e-d15a-43f8-b660-dbed28592abe",
   "metadata": {},
   "outputs": [
    {
     "data": {
      "text/plain": [
       "'Ram'"
      ]
     },
     "execution_count": 114,
     "metadata": {},
     "output_type": "execute_result"
    }
   ],
   "source": [
    "my_dict['name']"
   ]
  },
  {
   "cell_type": "code",
   "execution_count": 116,
   "id": "afd4865d-a388-4d21-ad19-8964bff47fbb",
   "metadata": {},
   "outputs": [
    {
     "name": "stdout",
     "output_type": "stream",
     "text": [
      "name\n",
      "age\n",
      "city\n"
     ]
    }
   ],
   "source": [
    "for x in my_dict: ##finding Keys\n",
    "    print(x)"
   ]
  },
  {
   "cell_type": "code",
   "execution_count": 119,
   "id": "1253a8db-fd0e-4176-b698-1f2c02e68b07",
   "metadata": {},
   "outputs": [
    {
     "name": "stdout",
     "output_type": "stream",
     "text": [
      "Ram\n",
      "25\n",
      "Bangalore\n"
     ]
    }
   ],
   "source": [
    "for x in my_dict.values():  ##finding values\n",
    "    print(x)"
   ]
  },
  {
   "cell_type": "code",
   "execution_count": 121,
   "id": "b3274e34-78fe-4359-9035-f350f9380217",
   "metadata": {},
   "outputs": [
    {
     "name": "stdout",
     "output_type": "stream",
     "text": [
      "('name', 'Ram')\n",
      "('age', 25)\n",
      "('city', 'Bangalore')\n"
     ]
    }
   ],
   "source": [
    "for x in my_dict.items(): ##finding keys and values\n",
    "    print(x)"
   ]
  },
  {
   "cell_type": "code",
   "execution_count": 123,
   "id": "795bd40c-e12f-482e-979f-a186d2f61f3d",
   "metadata": {},
   "outputs": [],
   "source": [
    "## adding the items\n",
    "my_dict['course']='Data science'"
   ]
  },
  {
   "cell_type": "code",
   "execution_count": 124,
   "id": "7b74f216-0f3c-4200-a9c9-9f91c199d57b",
   "metadata": {},
   "outputs": [],
   "source": [
    "my_dict1={\"Car1\": \"Audi\", \"Car2\":\"BMW\",\"Car3\":\"Mercidies Benz\"}"
   ]
  },
  {
   "cell_type": "markdown",
   "id": "cd0a3cae-5520-4192-a0c7-89c736b53485",
   "metadata": {},
   "source": [
    "## Nested Dictonary"
   ]
  },
  {
   "cell_type": "code",
   "execution_count": 125,
   "id": "78518b90-5327-4f69-8f87-725fd89ea775",
   "metadata": {},
   "outputs": [],
   "source": [
    "car1_model={'Mercedes':1960}\n",
    "car2_model={'Audi':1970}\n",
    "car3_model={'Ambassador':1980}\n",
    "\n",
    "car_type={'car1':car1_model,'car2':car2_model,'car3':car3_model}"
   ]
  },
  {
   "cell_type": "code",
   "execution_count": 126,
   "id": "3ed95821-4a1d-4ffe-93a9-d153c56fedd7",
   "metadata": {},
   "outputs": [
    {
     "name": "stdout",
     "output_type": "stream",
     "text": [
      "{'car1': {'Mercedes': 1960}, 'car2': {'Audi': 1970}, 'car3': {'Ambassador': 1980}}\n"
     ]
    }
   ],
   "source": [
    "print(car_type)"
   ]
  },
  {
   "cell_type": "code",
   "execution_count": 127,
   "id": "1f73bea4-4ce1-4f85-b84e-e2aa7a71587c",
   "metadata": {},
   "outputs": [
    {
     "name": "stdout",
     "output_type": "stream",
     "text": [
      "1960\n"
     ]
    }
   ],
   "source": [
    "print(car_type['car1']['Mercedes'])"
   ]
  },
  {
   "cell_type": "markdown",
   "id": "1008216e-28e1-4543-bb22-9477881506b2",
   "metadata": {},
   "source": [
    "## Tuples"
   ]
  },
  {
   "cell_type": "code",
   "execution_count": 128,
   "id": "0d9850bf-2150-4e50-8398-ec735112a80b",
   "metadata": {},
   "outputs": [],
   "source": [
    "my_tuple=tuple()"
   ]
  },
  {
   "cell_type": "code",
   "execution_count": 131,
   "id": "700e3e5d-7bf4-48a0-af8a-4090b4e0b119",
   "metadata": {},
   "outputs": [
    {
     "data": {
      "text/plain": [
       "tuple"
      ]
     },
     "execution_count": 131,
     "metadata": {},
     "output_type": "execute_result"
    }
   ],
   "source": [
    "type(my_tuple)"
   ]
  },
  {
   "cell_type": "code",
   "execution_count": 132,
   "id": "86a2eff3-f8bc-4f99-b022-7b05340ab690",
   "metadata": {},
   "outputs": [],
   "source": [
    "my_tuple = (\"Ranganath\",\"ramu\" ,\"ram\") #Tuple is immutable we cannot change "
   ]
  },
  {
   "cell_type": "code",
   "execution_count": 133,
   "id": "8d1c8603-1a7c-4223-90ce-3c103e9674c2",
   "metadata": {},
   "outputs": [],
   "source": [
    "my_tuple = (\"Raju\", \"swamy\") ## we can change the whole list"
   ]
  },
  {
   "cell_type": "code",
   "execution_count": 134,
   "id": "45457485-0319-4e67-a018-bd7fa5919658",
   "metadata": {},
   "outputs": [
    {
     "name": "stdout",
     "output_type": "stream",
     "text": [
      "<class 'tuple'>\n",
      "('Raju', 'swamy')\n"
     ]
    }
   ],
   "source": [
    "print(type(my_tuple))\n",
    "print(my_tuple)"
   ]
  },
  {
   "cell_type": "code",
   "execution_count": null,
   "id": "056c8353-5c41-4fd9-b36b-80e5d624f590",
   "metadata": {},
   "outputs": [],
   "source": []
  },
  {
   "cell_type": "code",
   "execution_count": null,
   "id": "ead05ac6-294b-487c-93aa-817c8ca0f006",
   "metadata": {},
   "outputs": [],
   "source": []
  },
  {
   "cell_type": "code",
   "execution_count": null,
   "id": "3a0c8a92-608d-4515-8bff-4e88e1f00020",
   "metadata": {},
   "outputs": [],
   "source": []
  },
  {
   "cell_type": "code",
   "execution_count": null,
   "id": "6b7b90df-9143-4625-af0d-434900b1ffdf",
   "metadata": {},
   "outputs": [],
   "source": []
  }
 ],
 "metadata": {
  "kernelspec": {
   "display_name": "Python 3 (ipykernel)",
   "language": "python",
   "name": "python3"
  },
  "language_info": {
   "codemirror_mode": {
    "name": "ipython",
    "version": 3
   },
   "file_extension": ".py",
   "mimetype": "text/x-python",
   "name": "python",
   "nbconvert_exporter": "python",
   "pygments_lexer": "ipython3",
   "version": "3.12.7"
  }
 },
 "nbformat": 4,
 "nbformat_minor": 5
}
