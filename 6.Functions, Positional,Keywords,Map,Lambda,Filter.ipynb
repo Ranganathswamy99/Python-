{
 "cells": [
  {
   "cell_type": "markdown",
   "id": "636c355c-4ca5-4ffa-a289-8f43e26e3b30",
   "metadata": {},
   "source": [
    "## Functions \n",
    "    why Function\n",
    "    Function Defination\n",
    "    Positional and Keyword Arguments in Functions"
   ]
  },
  {
   "cell_type": "code",
   "execution_count": 2,
   "id": "9932b794-d087-425f-88d4-4c2d383ba4a8",
   "metadata": {},
   "outputs": [
    {
     "name": "stdout",
     "output_type": "stream",
     "text": [
      "The number is even\n"
     ]
    }
   ],
   "source": [
    "num = 24\n",
    "\n",
    "if num%2==0:\n",
    "    print(\"The number is even\")\n",
    "else:\n",
    "    print(\"The num is odd\")"
   ]
  },
  {
   "cell_type": "code",
   "execution_count": 4,
   "id": "2a67582e-1134-4853-8f94-4f5712c0bb92",
   "metadata": {},
   "outputs": [],
   "source": [
    "def even_odd(num):\n",
    "    if num%2==0:\n",
    "        print(\"The number is even\")\n",
    "    else:\n",
    "        print(\"The num is odd\")"
   ]
  },
  {
   "cell_type": "code",
   "execution_count": 5,
   "id": "2cd77db0-15cd-4daa-a221-13d1af5a1547",
   "metadata": {},
   "outputs": [
    {
     "name": "stdout",
     "output_type": "stream",
     "text": [
      "The number is even\n"
     ]
    }
   ],
   "source": [
    "even_odd(24)"
   ]
  },
  {
   "cell_type": "code",
   "execution_count": 11,
   "id": "f84fd0b3-00c3-46dc-91a2-163ae4e2061d",
   "metadata": {},
   "outputs": [],
   "source": [
    "# print vs return\n",
    "def hello_world():\n",
    "    print(\"My name is Ranganath\")"
   ]
  },
  {
   "cell_type": "code",
   "execution_count": 10,
   "id": "39a7ed1b-b630-4d70-8e06-19a2ad07c7cc",
   "metadata": {},
   "outputs": [
    {
     "name": "stdout",
     "output_type": "stream",
     "text": [
      "My name is Ranganath \n"
     ]
    }
   ],
   "source": [
    "hello_world()"
   ]
  },
  {
   "cell_type": "code",
   "execution_count": 12,
   "id": "1211c82f-6078-4a21-9a33-88d64522d50e",
   "metadata": {},
   "outputs": [],
   "source": [
    "def add_number(num1,num2):\n",
    "    return num1+num2"
   ]
  },
  {
   "cell_type": "code",
   "execution_count": 16,
   "id": "20b2ce9b-4f99-4063-8226-60135f5632b3",
   "metadata": {},
   "outputs": [
    {
     "data": {
      "text/plain": [
       "50"
      ]
     },
     "execution_count": 16,
     "metadata": {},
     "output_type": "execute_result"
    }
   ],
   "source": [
    "val=add_number(25,25)\n",
    "val"
   ]
  },
  {
   "cell_type": "code",
   "execution_count": 24,
   "id": "e961cee6-da89-4bad-89e0-0d1ebe5fa9cd",
   "metadata": {},
   "outputs": [],
   "source": [
    "## Posistional argumnet   (name)\n",
    "## keyword argumnet       (age=29)\n",
    "\n",
    "def hello(name,age=25):\n",
    "    print(\"My name is {} and age is {}\".format(name,age))"
   ]
  },
  {
   "cell_type": "code",
   "execution_count": 22,
   "id": "dc59e4fa-9f8c-4d08-82de-36e7d531c4e5",
   "metadata": {},
   "outputs": [
    {
     "ename": "TypeError",
     "evalue": "hello() missing 1 required positional argument: 'name'",
     "output_type": "error",
     "traceback": [
      "\u001b[1;31m---------------------------------------------------------------------------\u001b[0m",
      "\u001b[1;31mTypeError\u001b[0m                                 Traceback (most recent call last)",
      "Cell \u001b[1;32mIn[22], line 1\u001b[0m\n\u001b[1;32m----> 1\u001b[0m hello()\n",
      "\u001b[1;31mTypeError\u001b[0m: hello() missing 1 required positional argument: 'name'"
     ]
    }
   ],
   "source": [
    "hello()"
   ]
  },
  {
   "cell_type": "code",
   "execution_count": 25,
   "id": "6e2e859a-7156-448b-97a5-3bc54d391a64",
   "metadata": {},
   "outputs": [
    {
     "name": "stdout",
     "output_type": "stream",
     "text": [
      "My name is Ranganath and age is 25\n"
     ]
    }
   ],
   "source": [
    "hello('Ranganath')"
   ]
  },
  {
   "cell_type": "code",
   "execution_count": 28,
   "id": "7245d1a4-0f72-466d-a477-906a2ba9ea57",
   "metadata": {},
   "outputs": [],
   "source": [
    "def hello(*args,**Kwargs):\n",
    "    print(args)\n",
    "    print(Kwargs)"
   ]
  },
  {
   "cell_type": "code",
   "execution_count": 30,
   "id": "04e7a18c-5226-432a-b4b9-b1186ecbd043",
   "metadata": {},
   "outputs": [
    {
     "name": "stdout",
     "output_type": "stream",
     "text": [
      "('Ranganath', 'Swamy')\n",
      "{'age': 25, 'dob': 2000}\n"
     ]
    }
   ],
   "source": [
    "hello(\"Ranganath\", \"Swamy\", age=25, dob=2000)"
   ]
  },
  {
   "cell_type": "code",
   "execution_count": 33,
   "id": "f7e5f419-3e85-49fa-bcd4-2202f87ac161",
   "metadata": {},
   "outputs": [],
   "source": [
    "lst=['ranganath', 'swamy']\n",
    "dict_args={'age':25, 'dob':2000}"
   ]
  },
  {
   "cell_type": "code",
   "execution_count": 35,
   "id": "5b658d33-7e98-4d66-9de4-06852bf7e0c6",
   "metadata": {},
   "outputs": [
    {
     "name": "stdout",
     "output_type": "stream",
     "text": [
      "(['ranganath', 'swamy'], {'age': 25, 'dob': 2000})\n",
      "{}\n"
     ]
    }
   ],
   "source": [
    "hello(lst,dict_args)"
   ]
  },
  {
   "cell_type": "code",
   "execution_count": 36,
   "id": "339a91f6-39f5-4c81-9037-72c5143d618f",
   "metadata": {},
   "outputs": [
    {
     "name": "stdout",
     "output_type": "stream",
     "text": [
      "('ranganath', 'swamy')\n",
      "{'age': 25, 'dob': 2000}\n"
     ]
    }
   ],
   "source": [
    "hello(*lst,**dict_args)"
   ]
  },
  {
   "cell_type": "code",
   "execution_count": 42,
   "id": "d17738ad-d55f-4d56-8a71-fb7646720154",
   "metadata": {},
   "outputs": [],
   "source": [
    "lst=[1,2,3,4,5,6,7]"
   ]
  },
  {
   "cell_type": "code",
   "execution_count": 44,
   "id": "e3a3df19-63bc-4037-8ab1-61a5ff8c0c1e",
   "metadata": {},
   "outputs": [],
   "source": [
    "def evenoddsum(lst):\n",
    "    even_sum=0\n",
    "    odd_sum=0\n",
    "    for i in lst:\n",
    "        if i%2 ==0:\n",
    "            even_sum=even_sum+i\n",
    "    else:\n",
    "        odd_sum=odd_sum+i\n",
    "    return even_sum,odd_sum"
   ]
  },
  {
   "cell_type": "code",
   "execution_count": 46,
   "id": "bcbe2edd-13cc-48c0-addf-bc0c9e8ad7ac",
   "metadata": {},
   "outputs": [
    {
     "data": {
      "text/plain": [
       "(12, 7)"
      ]
     },
     "execution_count": 46,
     "metadata": {},
     "output_type": "execute_result"
    }
   ],
   "source": [
    "evenoddsum(lst)"
   ]
  },
  {
   "cell_type": "markdown",
   "id": "5726f4b7-4466-464e-a3db-cf00eb2cdc84",
   "metadata": {},
   "source": [
    "## Lambda function\n",
    "ananymous function\n",
    "\n",
    "A function with no name"
   ]
  },
  {
   "cell_type": "code",
   "execution_count": 50,
   "id": "6b5241d8-097f-45c3-88dc-22e55f48249e",
   "metadata": {},
   "outputs": [],
   "source": [
    "def addition(a,b):\n",
    "    return a+b"
   ]
  },
  {
   "cell_type": "code",
   "execution_count": 51,
   "id": "f84026e4-ff64-4241-a8a9-3642596d0829",
   "metadata": {},
   "outputs": [
    {
     "data": {
      "text/plain": [
       "9"
      ]
     },
     "execution_count": 51,
     "metadata": {},
     "output_type": "execute_result"
    }
   ],
   "source": [
    "addition(4,5)"
   ]
  },
  {
   "cell_type": "code",
   "execution_count": 53,
   "id": "72ac84cd-48d6-4bdd-b0cb-614462333307",
   "metadata": {},
   "outputs": [],
   "source": [
    "addition = lambda a,b:a+b"
   ]
  },
  {
   "cell_type": "code",
   "execution_count": 54,
   "id": "81c62d79-9138-4f08-9940-aa9379659358",
   "metadata": {},
   "outputs": [
    {
     "data": {
      "text/plain": [
       "30"
      ]
     },
     "execution_count": 54,
     "metadata": {},
     "output_type": "execute_result"
    }
   ],
   "source": [
    "addition(15,15)"
   ]
  },
  {
   "cell_type": "code",
   "execution_count": 61,
   "id": "a3cb18d5-e128-4bf0-8c7c-ca0c65fe1208",
   "metadata": {},
   "outputs": [],
   "source": [
    "def even(num):\n",
    "    if num%2==0:\n",
    "        return True"
   ]
  },
  {
   "cell_type": "code",
   "execution_count": 65,
   "id": "1f3fefe4-ca65-4aa3-a818-275d391bf3fd",
   "metadata": {},
   "outputs": [
    {
     "data": {
      "text/plain": [
       "True"
      ]
     },
     "execution_count": 65,
     "metadata": {},
     "output_type": "execute_result"
    }
   ],
   "source": [
    "even(24)"
   ]
  },
  {
   "cell_type": "code",
   "execution_count": 63,
   "id": "54bf32e9-4dc0-4edd-af4c-cc3136813bf6",
   "metadata": {},
   "outputs": [],
   "source": [
    "even(27)  "
   ]
  },
  {
   "cell_type": "code",
   "execution_count": 66,
   "id": "98ef9d44-d690-47ff-bf5a-693234c57220",
   "metadata": {},
   "outputs": [],
   "source": [
    "even1 = lambda a:a%2==0"
   ]
  },
  {
   "cell_type": "code",
   "execution_count": 67,
   "id": "5d325ca3-203b-402a-a495-e6c1a351959b",
   "metadata": {},
   "outputs": [
    {
     "data": {
      "text/plain": [
       "True"
      ]
     },
     "execution_count": 67,
     "metadata": {},
     "output_type": "execute_result"
    }
   ],
   "source": [
    "even1(12)"
   ]
  },
  {
   "cell_type": "code",
   "execution_count": 68,
   "id": "c800ad81-8a43-4013-a82c-6e209496e8bb",
   "metadata": {},
   "outputs": [],
   "source": [
    "def addition (x,y,z):\n",
    "    return x+y+z"
   ]
  },
  {
   "cell_type": "code",
   "execution_count": 69,
   "id": "6ab6efe1-1fbc-4096-9f4f-ed21742e1581",
   "metadata": {},
   "outputs": [
    {
     "data": {
      "text/plain": [
       "9"
      ]
     },
     "execution_count": 69,
     "metadata": {},
     "output_type": "execute_result"
    }
   ],
   "source": [
    "addition(2,3,4)"
   ]
  },
  {
   "cell_type": "code",
   "execution_count": 70,
   "id": "1a6fdc1f-e780-4325-966d-69b6c845dffa",
   "metadata": {},
   "outputs": [],
   "source": [
    "addition = lambda x,y,z:x+y+z"
   ]
  },
  {
   "cell_type": "code",
   "execution_count": 71,
   "id": "aaaa7e9b-1c78-4e50-87e8-fe11f15afeee",
   "metadata": {},
   "outputs": [
    {
     "data": {
      "text/plain": [
       "6"
      ]
     },
     "execution_count": 71,
     "metadata": {},
     "output_type": "execute_result"
    }
   ],
   "source": [
    "addition(1,2,3)"
   ]
  },
  {
   "cell_type": "markdown",
   "id": "088eb011-83a4-45d7-8c98-ce341aba7445",
   "metadata": {},
   "source": [
    "### Map function"
   ]
  },
  {
   "cell_type": "code",
   "execution_count": 87,
   "id": "a5dbbeef-5b86-4b14-9b0e-de77729f1ca8",
   "metadata": {},
   "outputs": [],
   "source": [
    "def even_or_odd(num):\n",
    "    if num%2==0:\n",
    "        return \"the number {} is Even\".format(num)\n",
    "    else:\n",
    "        return \"the number {} is odd\".format(num)"
   ]
  },
  {
   "cell_type": "code",
   "execution_count": 88,
   "id": "f1c8a108-6f08-4a96-bf06-d9e965bb7687",
   "metadata": {},
   "outputs": [
    {
     "data": {
      "text/plain": [
       "'the number 24 is Even'"
      ]
     },
     "execution_count": 88,
     "metadata": {},
     "output_type": "execute_result"
    }
   ],
   "source": [
    "even_or_odd(24)"
   ]
  },
  {
   "cell_type": "code",
   "execution_count": 89,
   "id": "8646f23b-0c1c-466b-9bd6-85a06cf13a1e",
   "metadata": {},
   "outputs": [],
   "source": [
    "lst = [1,2,3,4,5,6,7,8,9,22,33,44,66,76]"
   ]
  },
  {
   "cell_type": "code",
   "execution_count": 90,
   "id": "7931269d-2ab3-47fd-af32-e80a5652ea97",
   "metadata": {},
   "outputs": [
    {
     "data": {
      "text/plain": [
       "['the number 1 is odd',\n",
       " 'the number 2 is Even',\n",
       " 'the number 3 is odd',\n",
       " 'the number 4 is Even',\n",
       " 'the number 5 is odd',\n",
       " 'the number 6 is Even',\n",
       " 'the number 7 is odd',\n",
       " 'the number 8 is Even',\n",
       " 'the number 9 is odd',\n",
       " 'the number 22 is Even',\n",
       " 'the number 33 is odd',\n",
       " 'the number 44 is Even',\n",
       " 'the number 66 is Even',\n",
       " 'the number 76 is Even']"
      ]
     },
     "execution_count": 90,
     "metadata": {},
     "output_type": "execute_result"
    }
   ],
   "source": [
    "list(map(even_or_odd,lst))"
   ]
  },
  {
   "cell_type": "markdown",
   "id": "97829438-52eb-48c7-9177-9181c0637e43",
   "metadata": {},
   "source": [
    "## Filter Function"
   ]
  },
  {
   "cell_type": "code",
   "execution_count": 97,
   "id": "8bd3395d-e2ef-43bf-9119-215ba7dc6d17",
   "metadata": {},
   "outputs": [],
   "source": [
    "def even(num):\n",
    "    if num%2==0:\n",
    "        return True"
   ]
  },
  {
   "cell_type": "code",
   "execution_count": 92,
   "id": "0a60668b-6d41-4561-9ee7-7b6828412b62",
   "metadata": {},
   "outputs": [],
   "source": [
    "lst = [1,2,3,4,5,6,7,8,9]"
   ]
  },
  {
   "cell_type": "code",
   "execution_count": 98,
   "id": "46956bca-7c65-4439-acf9-85dabd8dfe9c",
   "metadata": {},
   "outputs": [
    {
     "data": {
      "text/plain": [
       "[2, 4, 6, 8]"
      ]
     },
     "execution_count": 98,
     "metadata": {},
     "output_type": "execute_result"
    }
   ],
   "source": [
    "list(filter(even,lst))"
   ]
  },
  {
   "cell_type": "code",
   "execution_count": 100,
   "id": "1e5050b5-ff48-4249-a623-dbda10329d08",
   "metadata": {},
   "outputs": [
    {
     "data": {
      "text/plain": [
       "[2, 4, 6, 8]"
      ]
     },
     "execution_count": 100,
     "metadata": {},
     "output_type": "execute_result"
    }
   ],
   "source": [
    "list(filter(lambda num:num%2==0,lst))"
   ]
  },
  {
   "cell_type": "code",
   "execution_count": 101,
   "id": "423d8845-cf5a-4be7-a32e-342c1b829725",
   "metadata": {},
   "outputs": [
    {
     "data": {
      "text/plain": [
       "[False, True, False, True, False, True, False, True, False]"
      ]
     },
     "execution_count": 101,
     "metadata": {},
     "output_type": "execute_result"
    }
   ],
   "source": [
    "list(map(lambda num:num%2==0,lst))"
   ]
  },
  {
   "cell_type": "markdown",
   "id": "1cc72eff-bd03-4c64-a8bc-fef2e11cc3a4",
   "metadata": {},
   "source": []
  },
  {
   "cell_type": "code",
   "execution_count": 109,
   "id": "87931094-c9ec-405e-8aa8-712e77f25574",
   "metadata": {},
   "outputs": [],
   "source": []
  },
  {
   "cell_type": "code",
   "execution_count": 110,
   "id": "7b3d2844-1757-4e18-ae82-18f4e8e45451",
   "metadata": {},
   "outputs": [
    {
     "ename": "NameError",
     "evalue": "name 'lst_square' is not defined",
     "output_type": "error",
     "traceback": [
      "\u001b[1;31m---------------------------------------------------------------------------\u001b[0m",
      "\u001b[1;31mNameError\u001b[0m                                 Traceback (most recent call last)",
      "Cell \u001b[1;32mIn[110], line 1\u001b[0m\n\u001b[1;32m----> 1\u001b[0m lst_square([\u001b[38;5;241m1\u001b[39m,\u001b[38;5;241m2\u001b[39m,\u001b[38;5;241m3\u001b[39m,\u001b[38;5;241m4\u001b[39m,\u001b[38;5;241m5\u001b[39m,\u001b[38;5;241m6\u001b[39m,\u001b[38;5;241m7\u001b[39m,\u001b[38;5;241m8\u001b[39m])\n",
      "\u001b[1;31mNameError\u001b[0m: name 'lst_square' is not defined"
     ]
    }
   ],
   "source": []
  },
  {
   "cell_type": "code",
   "execution_count": null,
   "id": "a9e04702-f859-4367-8d35-99643a58adbf",
   "metadata": {},
   "outputs": [],
   "source": []
  },
  {
   "cell_type": "code",
   "execution_count": null,
   "id": "b6b80b30-71e1-4d66-bbf7-f61b46147918",
   "metadata": {},
   "outputs": [],
   "source": []
  }
 ],
 "metadata": {
  "kernelspec": {
   "display_name": "Python 3 (ipykernel)",
   "language": "python",
   "name": "python3"
  },
  "language_info": {
   "codemirror_mode": {
    "name": "ipython",
    "version": 3
   },
   "file_extension": ".py",
   "mimetype": "text/x-python",
   "name": "python",
   "nbconvert_exporter": "python",
   "pygments_lexer": "ipython3",
   "version": "3.12.7"
  }
 },
 "nbformat": 4,
 "nbformat_minor": 5
}
